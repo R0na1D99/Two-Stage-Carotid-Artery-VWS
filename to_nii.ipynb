{
 "cells": [
  {
   "cell_type": "code",
   "execution_count": 1,
   "metadata": {},
   "outputs": [],
   "source": [
    "import os\n",
    "import torch\n",
    "from utils.tools import check_all_exist\n",
    "from monai.transforms import LoadImage, Compose, SaveImage\n",
    "from monai.data import MetaTensor\n",
    "from utils.cascade import (\n",
    "    list_contour_slices,\n",
    "    get_athero_status,\n",
    "    fix_nearest_athero,\n",
    "    get_mask_slice,\n",
    ")\n",
    "from tqdm import tqdm\n",
    "\n",
    "root_dir = os.getenv(\"DATA_ROOT\")"
   ]
  },
  {
   "cell_type": "markdown",
   "metadata": {},
   "source": [
    "# COSMOS generate"
   ]
  },
  {
   "cell_type": "code",
   "execution_count": 4,
   "metadata": {},
   "outputs": [
    {
     "name": "stderr",
     "output_type": "stream",
     "text": [
      "100%|██████████| 50/50 [06:16<00:00,  7.53s/it]\n"
     ]
    }
   ],
   "source": [
    "input_dir = os.path.join(root_dir, \"COSMOS\", \"train_data\")\n",
    "output_dir = os.path.join(root_dir, \"COSMOS\", \"preprocessed\", \"mri_nii_raw\")\n",
    "mri_cases = [case for case in os.listdir(input_dir) if case.isdigit()]\n",
    "\n",
    "image_loader = LoadImage(image_only=True, ensure_channel_first=True)\n",
    "image_saver = SaveImage(output_dir, \"image\", resample=False, separate_folder=False, print_log=False)\n",
    "mask_saver = SaveImage(output_dir, \"mask\", resample=False, separate_folder=False, print_log=False)\n",
    "\n",
    "for case_file in tqdm(mri_cases):\n",
    "    image_dir = os.path.join(output_dir, f\"{case_file}_image.nii.gz\")\n",
    "    mask_dir = os.path.join(output_dir, f\"{case_file}_mask.nii.gz\")\n",
    "    if not check_all_exist([image_dir, mask_dir]):  # check all files processed?\n",
    "        dcm_image_dir = os.path.join(input_dir, case_file)\n",
    "        image = image_loader(dcm_image_dir)\n",
    "        C, H, W, D = image.shape\n",
    "        new_mask = torch.zeros_like(image)\n",
    "        athero_status = get_athero_status(input_dir, case_file)\n",
    "        for art_i in [\"L\", \"R\"]:  # Read from given `CASCADE` format xml files\n",
    "            annotated_slices = list_contour_slices(dcm_image_dir, art_i, case_file)\n",
    "            if art_i in athero_status:\n",
    "                athero_status[art_i] = fix_nearest_athero(annotated_slices, athero_status[art_i])\n",
    "            else:\n",
    "                athero_status[art_i] = {i:0 for i in annotated_slices}\n",
    "            for i, anno_id in enumerate(annotated_slices):\n",
    "                lumen_mask, wall_mask = get_mask_slice(dcm_image_dir, art_i, case_file, anno_id, H, W)\n",
    "                wall_value = 3 if athero_status[art_i][anno_id] else 2  # 2 if heathy, 3 if diseased\n",
    "                lumen_mask, wall_mask = lumen_mask, wall_mask * wall_value\n",
    "                new_mask[..., anno_id] = torch.tensor(lumen_mask + wall_mask)\n",
    "        new_mask = MetaTensor(new_mask, meta=image.meta)\n",
    "        image_saver(image)\n",
    "        mask_saver(new_mask)"
   ]
  },
  {
   "cell_type": "markdown",
   "metadata": {},
   "source": [
    "## INTERP"
   ]
  },
  {
   "cell_type": "code",
   "execution_count": 3,
   "metadata": {},
   "outputs": [
    {
     "name": "stderr",
     "output_type": "stream",
     "text": [
      " 34%|███▍      | 17/50 [00:34<01:05,  1.99s/it]"
     ]
    },
    {
     "name": "stdout",
     "output_type": "stream",
     "text": [
      "28_R_image.nii.gz\n"
     ]
    },
    {
     "name": "stderr",
     "output_type": "stream",
     "text": [
      " 36%|███▌      | 18/50 [00:36<01:02,  1.95s/it]"
     ]
    },
    {
     "name": "stdout",
     "output_type": "stream",
     "text": [
      "29_R_image.nii.gz\n"
     ]
    },
    {
     "name": "stderr",
     "output_type": "stream",
     "text": [
      " 64%|██████▍   | 32/50 [01:06<00:36,  2.03s/it]"
     ]
    },
    {
     "name": "stdout",
     "output_type": "stream",
     "text": [
      "42_L_image.nii.gz\n"
     ]
    },
    {
     "name": "stderr",
     "output_type": "stream",
     "text": [
      " 66%|██████▌   | 33/50 [01:08<00:34,  2.00s/it]"
     ]
    },
    {
     "name": "stdout",
     "output_type": "stream",
     "text": [
      "43_R_image.nii.gz\n"
     ]
    },
    {
     "name": "stderr",
     "output_type": "stream",
     "text": [
      " 74%|███████▍  | 37/50 [01:17<00:29,  2.25s/it]"
     ]
    },
    {
     "name": "stdout",
     "output_type": "stream",
     "text": [
      "47_R_image.nii.gz\n"
     ]
    },
    {
     "name": "stderr",
     "output_type": "stream",
     "text": [
      " 86%|████████▌ | 43/50 [01:30<00:15,  2.15s/it]"
     ]
    },
    {
     "name": "stdout",
     "output_type": "stream",
     "text": [
      "52_R_image.nii.gz\n"
     ]
    },
    {
     "name": "stderr",
     "output_type": "stream",
     "text": [
      " 94%|█████████▍| 47/50 [01:38<00:06,  2.08s/it]"
     ]
    },
    {
     "name": "stdout",
     "output_type": "stream",
     "text": [
      "7_L_image.nii.gz\n"
     ]
    },
    {
     "name": "stderr",
     "output_type": "stream",
     "text": [
      "100%|██████████| 50/50 [01:46<00:00,  2.12s/it]\n"
     ]
    }
   ],
   "source": [
    "from monai.transforms import LoadImage, SaveImage\n",
    "import os \n",
    "import torch\n",
    "from pathlib import Path\n",
    "from tqdm import tqdm\n",
    "\n",
    "dataset = 'COSMOS'\n",
    "root_dir = os.getenv('DATA_ROOT')\n",
    "raw_dir = os.path.join(root_dir, dataset, \"train_data\")\n",
    "input_dir = os.path.join(root_dir, dataset, \"preprocessed\", \"mri_nii_raw\")\n",
    "output_dir = os.path.join(root_dir, dataset, \"preprocessed\", \"mri_nii_raw\")\n",
    "if dataset == \"COSMOS\":\n",
    "    mri_cases = [case for case in os.listdir(raw_dir) if case.isdigit()]\n",
    "else:\n",
    "    mri_cases = [case for case in os.listdir(raw_dir) if case.startswith(\"0_P\")]\n",
    "\n",
    "mask_saver = SaveImage(output_dir, \"interp\", resample=False, separate_folder=False, print_log=False)\n",
    "mask_loader = LoadImage(image_only=True, ensure_channel_first=True)\n",
    "\n",
    "for case_file in tqdm(mri_cases):\n",
    "    mask = mask_loader(os.path.join(input_dir, f\"{case_file}_mask.nii.gz\"))\n",
    "    if os.path.exists(os.path.join(output_dir, f\"{case_file}_interp.nii.gz\")):\n",
    "        continue\n",
    "    C, H, W, D = mask.shape\n",
    "    mask_L, mask_R = mask[:, :H//2], mask[:, H//2:]\n",
    "    for mask_part, side in zip([mask_L, mask_R], ['L', 'R']):\n",
    "        anno_id = torch.where(mask_part > 0)[-1].unique()\n",
    "        if anno_id.shape[0] > 0:\n",
    "            anno_id = anno_id\n",
    "            unanno_slices = list()\n",
    "            l_min, l_max = anno_id.min(), anno_id.max() + 1\n",
    "            for s in range(l_min, l_max):\n",
    "                if s not in anno_id:\n",
    "                    unanno_slices.append(s)\n",
    "            for s in unanno_slices:\n",
    "                mask_part[..., s] = mask_part[..., min(anno_id, key=lambda x: abs(x - s))]\n",
    "        else:\n",
    "            print(f\"{case_file}_{side}_image.nii.gz\")\n",
    "    mask[:, :H//2], mask[:, H//2:] = mask_L, mask_R\n",
    "    mask.meta['filename_or_obj'] = f\"{case_file}.nii.gz\"\n",
    "    mask_saver(mask)"
   ]
  }
 ],
 "metadata": {
  "kernelspec": {
   "display_name": "VWS",
   "language": "python",
   "name": "python3"
  },
  "language_info": {
   "codemirror_mode": {
    "name": "ipython",
    "version": 3
   },
   "file_extension": ".py",
   "mimetype": "text/x-python",
   "name": "python",
   "nbconvert_exporter": "python",
   "pygments_lexer": "ipython3",
   "version": "3.10.9"
  },
  "orig_nbformat": 4
 },
 "nbformat": 4,
 "nbformat_minor": 2
}
